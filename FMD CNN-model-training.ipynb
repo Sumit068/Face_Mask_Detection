{
 "cells": [
  {
   "cell_type": "code",
   "execution_count": null,
   "id": "5ca592e0",
   "metadata": {},
   "outputs": [],
   "source": [
    "import numpy as np\n",
    "from keras.models import Sequential\n",
    "from keras.layers import Dense, Activation, Flatten, Dropout, Conv2D, MaxPooling2D\n",
    "from keras.callbacks import ModelCheckpoint\n",
    "from sklearn.model_selection import train_test_split"
   ]
  },
  {
   "cell_type": "code",
   "execution_count": null,
   "id": "8389664d",
   "metadata": {},
   "outputs": [],
   "source": [
    "from google.colab import drive #connect with google drive\n",
    "drive.mount('/content/drive')  #mount the google drive"
   ]
  },
  {
   "cell_type": "code",
   "execution_count": null,
   "id": "dcaad2f1",
   "metadata": {},
   "outputs": [],
   "source": [
    "data = np.load('/content/drive/MyDrive/Colab Notebooks/data.npy')     #load datalist from drive\n",
    "target = np.load('/content/drive/MyDrive/Colab Notebooks/target.npy') #load target list from drive"
   ]
  },
  {
   "cell_type": "code",
   "execution_count": null,
   "id": "19eb8ea4",
   "metadata": {},
   "outputs": [],
   "source": [
    "model = Sequential()\n",
    "\n",
    "model.add(Conv2D(200,(3,3),input_shape=data.shape[1:]))\n",
    "model.add(Activation('relu'))\n",
    "model.add(MaxPooling2D(pool_size=(2,2)))\n",
    "\n",
    "model.add(Conv2D(100,(3,3)))\n",
    "model.add(Activation('relu'))\n",
    "model.add(MaxPooling2D(pool_size=(2,2)))\n",
    "\n",
    "model.add(Flatten())\n",
    "model.add(Dropout(0.5))\n",
    "\n",
    "model.add(Dense(50,activation='relu'))\n",
    "\n",
    "model.add(Dense(2,activation='softmax'))\n",
    "\n",
    "model.compile(loss='categorical_crossentropy', optimizer='adam', metrics=['accuracy'])"
   ]
  },
  {
   "cell_type": "code",
   "execution_count": null,
   "id": "a3c96711",
   "metadata": {},
   "outputs": [],
   "source": [
    "train_data, test_data, train_target, test_target = train_test_split(data,target, test_size=0.1) #divide data for training and testing"
   ]
  },
  {
   "cell_type": "code",
   "execution_count": null,
   "id": "ce0d525e",
   "metadata": {},
   "outputs": [],
   "source": [
    "checkpoint=ModelCheckpoint('model-{epoch:03d}.model', monitor='val_loss', verbose=0, save_best_only=True, mode='auto')"
   ]
  },
  {
   "cell_type": "code",
   "execution_count": null,
   "id": "bcd8c5a6",
   "metadata": {},
   "outputs": [],
   "source": [
    "history = model.fit(train_data, train_target, epochs=20, callbacks=[checkpoint], validation_split=0.001)  #train model"
   ]
  },
  {
   "cell_type": "code",
   "execution_count": null,
   "id": "6cba4576",
   "metadata": {},
   "outputs": [],
   "source": [
    "model.save('/content/drive/MyDrive/Colab Notebooks/my model',\"my_model\") #save model on drive"
   ]
  }
 ],
 "metadata": {
  "kernelspec": {
   "display_name": "Python 3 (ipykernel)",
   "language": "python",
   "name": "python3"
  },
  "language_info": {
   "codemirror_mode": {
    "name": "ipython",
    "version": 3
   },
   "file_extension": ".py",
   "mimetype": "text/x-python",
   "name": "python",
   "nbconvert_exporter": "python",
   "pygments_lexer": "ipython3",
   "version": "3.8.6"
  }
 },
 "nbformat": 4,
 "nbformat_minor": 5
}
