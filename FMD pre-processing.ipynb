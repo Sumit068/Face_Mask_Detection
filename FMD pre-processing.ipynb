{
 "cells": [
  {
   "cell_type": "code",
   "execution_count": 3,
   "id": "b7f1d254",
   "metadata": {},
   "outputs": [],
   "source": [
    "import os,cv2\n",
    "import numpy as np\n",
    "from keras.utils import np_utils"
   ]
  },
  {
   "cell_type": "code",
   "execution_count": 4,
   "id": "95947e09",
   "metadata": {},
   "outputs": [],
   "source": [
    "data_path = \"D:/All Codes/project/data\"      #path of dataset\n",
    "catagories = os.listdir(data_path)           #extract & create list folder inside dataset\n",
    "label = [i for i in range(len(catagories))]  #create a list & append numbers (0 to total numbers files in dataset)\n",
    "label_dict = dict(zip(catagories,label))     #create dictionary & add folders(catagories) with numbers(labels)"
   ]
  },
  {
   "cell_type": "code",
   "execution_count": 5,
   "id": "aeb77bc9",
   "metadata": {},
   "outputs": [],
   "source": [
    "img_size = 100   #size of image which have to set\n",
    "data=[]          #store data of image in numbers\n",
    "target=[]        #decide mask or not mask\n",
    "for catagory in catagories:\n",
    "    folder_path = os.path.join(data_path,catagory)               #store path of folder in which images avilable\n",
    "    images = os.listdir(folder_path)                             #collect and store all images\n",
    "    for image in images:\n",
    "        image_path = os.path.join(folder_path,image)             #store specific path of image\n",
    "        img = cv2.imread(image_path)                             #read images in 3d list\n",
    "        try:\n",
    "            gray_image = cv2.cvtColor(img,cv2.COLOR_RGB2GRAY)    #convert image into black and white beacause it's have single channel\n",
    "            resized = cv2.resize(gray_image,(img_size,img_size)) #change the size of black and white image\n",
    "            data.append(resized)                                 #append black and white image data int datalist\n",
    "            target.append(label_dict[catagory])                  #provide label current image is with mask or without mask\n",
    "        except Exception as e:\n",
    "            print(\"Exception : \",e)"
   ]
  },
  {
   "cell_type": "code",
   "execution_count": 7,
   "id": "36ebc6f3",
   "metadata": {},
   "outputs": [],
   "source": [
    "data = np.array(data)/255.0                                 #convert datalist number in between 0-1 & numpy array\n",
    "data = np.reshape(data,(data.shape[0],img_size,img_size,1)) #convert datalist in 4d numpy array\n",
    "target = np.array(target)                                   #convert number into numpy array\n",
    "target = np_utils.to_categorical(target)                    #labeled data"
   ]
  },
  {
   "cell_type": "code",
   "execution_count": null,
   "id": "0afcc330",
   "metadata": {},
   "outputs": [],
   "source": [
    "np.save('data',data)\n",
    "np.save('target',target)"
   ]
  }
 ],
 "metadata": {
  "kernelspec": {
   "display_name": "Python 3 (ipykernel)",
   "language": "python",
   "name": "python3"
  },
  "language_info": {
   "codemirror_mode": {
    "name": "ipython",
    "version": 3
   },
   "file_extension": ".py",
   "mimetype": "text/x-python",
   "name": "python",
   "nbconvert_exporter": "python",
   "pygments_lexer": "ipython3",
   "version": "3.8.6"
  }
 },
 "nbformat": 4,
 "nbformat_minor": 5
}
